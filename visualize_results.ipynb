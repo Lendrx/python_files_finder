{
 "cells": [
  {
   "cell_type": "markdown",
   "metadata": {},
   "source": [
    "#### Module importieren"
   ]
  },
  {
   "cell_type": "code",
   "execution_count": 8,
   "metadata": {},
   "outputs": [],
   "source": [
    "import os\n",
    "import matplotlib.pyplot as plt\n",
    "import pandas as pd\n",
    "from pathlib import Path"
   ]
  },
  {
   "cell_type": "markdown",
   "metadata": {},
   "source": [
    "#### Daten in DataFrame speichern"
   ]
  },
  {
   "cell_type": "code",
   "execution_count": 12,
   "metadata": {},
   "outputs": [],
   "source": [
    "def load_data(folder_sizes_file):\n",
    "    \"\"\"\n",
    "    Lädt die Ordnergrößendaten aus der Datei und gibt ein Pandas-DataFrame zurück.\n",
    "    \"\"\"\n",
    "    try:\n",
    "        data = []\n",
    "        with open(folder_sizes_file, 'r', encoding='utf-8') as f:\n",
    "            lines = f.readlines()\n",
    "            for line in lines:\n",
    "                # Sucht nach Zeilen, die Ordner und Größen enthalten\n",
    "                if line.startswith(\"Ordner:\"):\n",
    "                    folder = line.replace(\"Ordner:\", \"\").strip()\n",
    "                elif line.startswith(\"Größe:\"):\n",
    "                    size_bytes = int(line.split('(')[1].split()[0].replace(',', ''))\n",
    "                    data.append((folder, size_bytes))\n",
    "        return pd.DataFrame(data, columns=[\"Ordner\", \"Größe (Bytes)\"])\n",
    "    except FileNotFoundError:\n",
    "        print(f\"Die Datei '{folder_sizes_file}' wurde nicht gefunden.\")\n",
    "        return pd.DataFrame()\n"
   ]
  },
  {
   "cell_type": "markdown",
   "metadata": {},
   "source": [
    "#### Visualisierung der Ergebnisse als Balkendiagramm"
   ]
  },
  {
   "cell_type": "code",
   "execution_count": null,
   "metadata": {},
   "outputs": [],
   "source": [
    "\n",
    "def plot_folder_sizes(data):\n",
    "    \"\"\"\n",
    "    Erstellt ein Balkendiagramm für die Ordnergrößen.\n",
    "    \"\"\"\n",
    "    if data.empty:\n",
    "        print(\"Keine Daten vorhanden, um die Ordnergrößen zu visualisieren.\")\n",
    "        return\n",
    "\n",
    "    # Konvertiere Bytes in MB für die Anzeige\n",
    "    data[\"Größe (MB)\"] = data[\"Größe (Bytes)\"] / (1024 * 1024)\n",
    "\n",
    "    # Sortiere nach Größe\n",
    "    data = data.sort_values(by=\"Größe (MB)\", ascending=False).head(10)\n",
    "\n",
    "    # Erstelle das Diagramm\n",
    "    plt.figure(figsize=(10, 6))\n",
    "    plt.barh(data[\"Ordner\"], data[\"Größe (MB)\"], color=\"skyblue\")\n",
    "    plt.xlabel(\"Größe (MB)\")\n",
    "    plt.ylabel(\"Ordner\")\n",
    "    plt.title(\"Top 10 Ordner nach Python-Dateigröße\")\n",
    "    plt.gca().invert_yaxis()  # Ordner mit der größten Größe oben anzeigen\n",
    "    plt.tight_layout()\n",
    "    plt.show()"
   ]
  },
  {
   "cell_type": "markdown",
   "metadata": {},
   "source": [
    "#### Ergebnis: Visualisiserung"
   ]
  },
  {
   "cell_type": "code",
   "execution_count": 11,
   "metadata": {},
   "outputs": [
    {
     "ename": "NameError",
     "evalue": "name '__file__' is not defined",
     "output_type": "error",
     "traceback": [
      "\u001b[0;31m---------------------------------------------------------------------------\u001b[0m",
      "\u001b[0;31mNameError\u001b[0m                                 Traceback (most recent call last)",
      "Cell \u001b[0;32mIn[11], line 10\u001b[0m\n\u001b[1;32m      7\u001b[0m     plot_folder_sizes(data)\n\u001b[1;32m      9\u001b[0m \u001b[38;5;28;01mif\u001b[39;00m \u001b[38;5;18m__name__\u001b[39m \u001b[38;5;241m==\u001b[39m \u001b[38;5;124m\"\u001b[39m\u001b[38;5;124m__main__\u001b[39m\u001b[38;5;124m\"\u001b[39m:\n\u001b[0;32m---> 10\u001b[0m     main()\n",
      "Cell \u001b[0;32mIn[11], line 3\u001b[0m, in \u001b[0;36mmain\u001b[0;34m()\u001b[0m\n\u001b[1;32m      1\u001b[0m \u001b[38;5;28;01mdef\u001b[39;00m \u001b[38;5;21mmain\u001b[39m():\n\u001b[1;32m      2\u001b[0m     \u001b[38;5;66;03m# Pfad zur Datei mit Ordnergrößen\u001b[39;00m\n\u001b[0;32m----> 3\u001b[0m     folder_sizes_file \u001b[38;5;241m=\u001b[39m os\u001b[38;5;241m.\u001b[39mpath\u001b[38;5;241m.\u001b[39mjoin(os\u001b[38;5;241m.\u001b[39mpath\u001b[38;5;241m.\u001b[39mdirname(\u001b[38;5;18m__file__\u001b[39m), \u001b[38;5;124m'\u001b[39m\u001b[38;5;124mfolder_sizes.txt\u001b[39m\u001b[38;5;124m'\u001b[39m)\n\u001b[1;32m      5\u001b[0m     \u001b[38;5;66;03m# Lade die Daten und visualisiere sie\u001b[39;00m\n\u001b[1;32m      6\u001b[0m     data \u001b[38;5;241m=\u001b[39m load_data(folder_sizes_file)\n",
      "\u001b[0;31mNameError\u001b[0m: name '__file__' is not defined"
     ]
    }
   ],
   "source": [
    "def main():\n",
    "    # Pfad zur Datei mit Ordnergrößen\n",
    "    folder_sizes_file = os.path.join(os.path.dirname(__file__), 'folder_sizes.txt')\n",
    "    \n",
    "    # Lade die Daten und visualisiere sie\n",
    "    data = load_data(folder_sizes_file)\n",
    "    plot_folder_sizes(data)\n",
    "\n",
    "if __name__ == \"__main__\":\n",
    "    main()"
   ]
  }
 ],
 "metadata": {
  "kernelspec": {
   "display_name": "EnvScience",
   "language": "python",
   "name": "python3"
  },
  "language_info": {
   "codemirror_mode": {
    "name": "ipython",
    "version": 3
   },
   "file_extension": ".py",
   "mimetype": "text/x-python",
   "name": "python",
   "nbconvert_exporter": "python",
   "pygments_lexer": "ipython3",
   "version": "3.12.2"
  }
 },
 "nbformat": 4,
 "nbformat_minor": 2
}
