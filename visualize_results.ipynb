{
 "cells": [
  {
   "cell_type": "markdown",
   "metadata": {},
   "source": [
    "#### Module importieren"
   ]
  },
  {
   "cell_type": "code",
   "execution_count": 8,
   "metadata": {},
   "outputs": [],
   "source": [
    "import os\n",
    "import matplotlib.pyplot as plt\n",
    "import pandas as pd\n",
    "from pathlib import Path"
   ]
  },
  {
   "cell_type": "markdown",
   "metadata": {},
   "source": [
    "#### Daten in DataFrame speichern"
   ]
  },
  {
   "cell_type": "code",
   "execution_count": 12,
   "metadata": {},
   "outputs": [],
   "source": [
    "def load_data(folder_sizes_file):\n",
    "    \"\"\"\n",
    "    Lädt die Ordnergrößendaten aus der Datei und gibt ein Pandas-DataFrame zurück.\n",
    "    \"\"\"\n",
    "    try:\n",
    "        data = []\n",
    "        with open(folder_sizes_file, 'r', encoding='utf-8') as f:\n",
    "            lines = f.readlines()\n",
    "            for line in lines:\n",
    "                # Sucht nach Zeilen, die Ordner und Größen enthalten\n",
    "                if line.startswith(\"Ordner:\"):\n",
    "                    folder = line.replace(\"Ordner:\", \"\").strip()\n",
    "                elif line.startswith(\"Größe:\"):\n",
    "                    size_bytes = int(line.split('(')[1].split()[0].replace(',', ''))\n",
    "                    data.append((folder, size_bytes))\n",
    "        return pd.DataFrame(data, columns=[\"Ordner\", \"Größe (Bytes)\"])\n",
    "    except FileNotFoundError:\n",
    "        print(f\"Die Datei '{folder_sizes_file}' wurde nicht gefunden.\")\n",
    "        return pd.DataFrame()\n"
   ]
  },
  {
   "cell_type": "markdown",
   "metadata": {},
   "source": [
    "#### Visualisierung der Ergebnisse als Balkendiagramm"
   ]
  },
  {
   "cell_type": "code",
   "execution_count": 13,
   "metadata": {},
   "outputs": [],
   "source": [
    "\n",
    "def plot_folder_sizes(data):\n",
    "    \"\"\"\n",
    "    Erstellt ein Balkendiagramm für die Ordnergrößen.\n",
    "    \"\"\"\n",
    "    if data.empty:\n",
    "        print(\"Keine Daten vorhanden, um die Ordnergrößen zu visualisieren.\")\n",
    "        return\n",
    "\n",
    "    # Konvertiere Bytes in MB für die Anzeige\n",
    "    data[\"Größe (MB)\"] = data[\"Größe (Bytes)\"] / (1024 * 1024)\n",
    "\n",
    "    # Sortiere nach Größe\n",
    "    data = data.sort_values(by=\"Größe (MB)\", ascending=False).head(10)\n",
    "\n",
    "    # Erstelle das Diagramm\n",
    "    plt.figure(figsize=(10, 6))\n",
    "    plt.barh(data[\"Ordner\"], data[\"Größe (MB)\"], color=\"skyblue\")\n",
    "    plt.xlabel(\"Größe (MB)\")\n",
    "    plt.ylabel(\"Ordner\")\n",
    "    plt.title(\"Top 10 Ordner nach Python-Dateigröße\")\n",
    "    plt.gca().invert_yaxis()  # Ordner mit der größten Größe oben anzeigen\n",
    "    plt.tight_layout()\n",
    "    plt.show()"
   ]
  },
  {
   "cell_type": "markdown",
   "metadata": {},
   "source": [
    "#### Ergebnis: Visualisiserung"
   ]
  },
  {
   "cell_type": "code",
   "execution_count": 15,
   "metadata": {},
   "outputs": [],
   "source": [
    "# def main():\n",
    "#     # Verwende den aktuellen Arbeitsordner, wenn __file__ nicht definiert ist\n",
    "#     folder_sizes_file = os.path.join(os.getcwd(), 'folder_sizes.txt')\n",
    "    \n",
    "#     # Lade die Daten und visualisiere sie\n",
    "#     data = load_data(folder_sizes_file)\n",
    "#     plot_folder_sizes(data)\n",
    "\n",
    "# if __name__ == \"__main__\":\n",
    "#     main()"
   ]
  }
 ],
 "metadata": {
  "kernelspec": {
   "display_name": "EnvScience",
   "language": "python",
   "name": "python3"
  },
  "language_info": {
   "codemirror_mode": {
    "name": "ipython",
    "version": 3
   },
   "file_extension": ".py",
   "mimetype": "text/x-python",
   "name": "python",
   "nbconvert_exporter": "python",
   "pygments_lexer": "ipython3",
   "version": "3.12.2"
  }
 },
 "nbformat": 4,
 "nbformat_minor": 2
}
